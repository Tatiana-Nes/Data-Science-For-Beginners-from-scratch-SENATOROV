{
 "cells": [
  {
   "cell_type": "code",
   "execution_count": null,
   "id": "89801ab0",
   "metadata": {},
   "outputs": [],
   "source": [
    "# %%\n",
    "\"\"\"Интро.\"\"\""
   ]
  },
  {
   "cell_type": "markdown",
   "id": "32e6b988",
   "metadata": {},
   "source": [
    "24/09\n",
    "\n",
    "1. Ознакомилась с git, VS Code\n",
    "2. Зарегистрировалась на GitHub, Kaggle\n",
    "3. Ознакомилась с платформой Kaggle\n",
    "4. Прошла курсы на Stepik по Kaggle и Cursor\n",
    "4. Изучала линтеры pylint, pydocstile, flake8, Mypy"
   ]
  },
  {
   "cell_type": "markdown",
   "id": "72c8f995",
   "metadata": {},
   "source": []
  }
 ],
 "metadata": {
  "kernelspec": {
   "display_name": "base",
   "language": "python",
   "name": "python3"
  },
  "language_info": {
   "codemirror_mode": {
    "name": "ipython",
    "version": 3
   },
   "file_extension": ".py",
   "mimetype": "text/x-python",
   "name": "python",
   "nbconvert_exporter": "python",
   "pygments_lexer": "ipython3",
   "version": "3.13.5"
  }
 },
 "nbformat": 4,
 "nbformat_minor": 5
}
