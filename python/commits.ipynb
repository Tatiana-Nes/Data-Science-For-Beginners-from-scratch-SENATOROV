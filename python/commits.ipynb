{
 "cells": [
  {
   "cell_type": "code",
   "execution_count": 1,
   "id": "cc898eb9",
   "metadata": {},
   "outputs": [
    {
     "data": {
      "text/plain": [
       "'Понимание формата сообщений коммитов.'"
      ]
     },
     "execution_count": 1,
     "metadata": {},
     "output_type": "execute_result"
    }
   ],
   "source": [
    "\"\"\"Понимание формата сообщений коммитов.\"\"\""
   ]
  },
  {
   "cell_type": "markdown",
   "id": "49b01bcd",
   "metadata": {},
   "source": [
    "1. Опишите своими словами назначение каждого из этих типов коммитов:\n",
    "   feat — добавление новой функциональности в коде.\n",
    "   fix — исправление багов, влияющих на поведение.\n",
    "   docs— изменения только в документации (README, туториалы).\n",
    "   style — правки оформления кода без изменения логики (пробелы, отступы, форматирование, точки с запятой).\n",
    "   refactor — переработка кода без изменения внешнего поведения (улучшение структуры).\n",
    "   test — добавление/изменение тестов, без правок кода.\n",
    "   build — изменения сборочной системы/зависимостей (npm/poetry/webpack, Dockerfile и т.п.).\n",
    "   ci — изменения в CI-пайплайнах/скриптах (GitHub Actions, GitLab CI, Jenkins).\n",
    "   perf — оптимизации производительности без изменения результата.\n",
    "   chore — прочие технические задачи, не влияющие на код приложения (обновить .gitignore, переставить файлы).\n",
    "\n",
    "2. Представьте, что вы исправили баг в функции, которая некорректно округляет числа. Сделайте фиктивный коммит и напишите для него сообщение в соответствии с Conventional\n",
    "   Commits (используя тип fix).\n",
    "   git add commits.ipynb\n",
    "   git commit -m \"fix(rounding): correct decimal rounding\" \\\n",
    "              -m \"Use Decimal with ROUND_HALF_UP.\"\n",
    "\n",
    "3. Добавление новой функциональности:\n",
    "   Допустим, вы реализовали новую функцию generateReport в проекте. Сделайте фиктивный коммит с типом feat, отражающий добавление этой функциональности\n",
    "   git add commits.ipynb\n",
    "   git commit -m \"feat: add generateReport function\"\n",
    "\n"
   ]
  }
 ],
 "metadata": {
  "jupytext": {
   "formats": "ipynb,py:percent"
  },
  "kernelspec": {
   "display_name": "Python 3",
   "language": "python",
   "name": "python3"
  },
  "language_info": {
   "codemirror_mode": {
    "name": "ipython",
    "version": 3
   },
   "file_extension": ".py",
   "mimetype": "text/x-python",
   "name": "python",
   "nbconvert_exporter": "python",
   "pygments_lexer": "ipython3",
   "version": "3.13.5"
  }
 },
 "nbformat": 4,
 "nbformat_minor": 5
}
